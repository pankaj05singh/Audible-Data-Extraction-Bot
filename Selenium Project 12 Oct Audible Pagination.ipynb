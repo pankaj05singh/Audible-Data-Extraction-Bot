{
 "cells": [
  {
   "cell_type": "code",
   "execution_count": 1,
   "id": "f337af0f",
   "metadata": {},
   "outputs": [],
   "source": [
    "from selenium import webdriver\n",
    "from selenium.webdriver.support.ui import WebDriverWait\n",
    "from selenium.webdriver.support import expected_conditions as EC\n",
    "from selenium.webdriver.common.by import By\n",
    "from selenium.webdriver.common.keys import Keys\n",
    "from selenium.common.exceptions import NoSuchElementException\n",
    "import pandas as pd"
   ]
  },
  {
   "cell_type": "code",
   "execution_count": 2,
   "id": "b1d25f11",
   "metadata": {},
   "outputs": [],
   "source": [
    "url = \"https://www.audible.in/search?node=21881796031&sort=popularity-rank&page=1&ref_pageloadid=BeJHMSb99GaFIErd&ref=a_search_c4_pageNum_0&pf_rd_p=b54fcd14-da4e-4eac-bb29-fbf84d0dd022&pf_rd_r=Z1NAPCF32R1WKYATG7JM&pageLoadId=TIbQgoXB2gy1xG1x&ref_plink=not_applicable&creativeId=dde0429d-3138-4cb1-9b9a-df4c91c52b39\""
   ]
  },
  {
   "cell_type": "code",
   "execution_count": 3,
   "id": "bdd3ed84",
   "metadata": {},
   "outputs": [],
   "source": [
    "path = \"D:\\ChromeDriver\\chromedriver.exe\""
   ]
  },
  {
   "cell_type": "code",
   "execution_count": 4,
   "id": "c66ea7b3",
   "metadata": {},
   "outputs": [
    {
     "name": "stderr",
     "output_type": "stream",
     "text": [
      "C:\\Users\\Pankaj singh\\AppData\\Local\\Temp\\ipykernel_13428\\507230963.py:1: DeprecationWarning: executable_path has been deprecated, please pass in a Service object\n",
      "  driver = webdriver.Chrome(path)\n"
     ]
    }
   ],
   "source": [
    "driver = webdriver.Chrome(path)\n",
    "driver.get(url)"
   ]
  },
  {
   "cell_type": "code",
   "execution_count": 5,
   "id": "c8959992",
   "metadata": {},
   "outputs": [],
   "source": [
    "driver.maximize_window()"
   ]
  },
  {
   "cell_type": "code",
   "execution_count": 6,
   "id": "9e70d6e6",
   "metadata": {},
   "outputs": [],
   "source": [
    "Name = []\n",
    "Writtern_by = []\n",
    "Narrated_by = []\n",
    "Series = []\n",
    "Length = []\n",
    "Release_Date = []\n",
    "Language = []\n",
    "Rating = []\n",
    "Rating_Given_By = []"
   ]
  },
  {
   "cell_type": "code",
   "execution_count": 7,
   "id": "3fcfd48f",
   "metadata": {},
   "outputs": [],
   "source": [
    "# data = driver.find_elements(by = \"xpath\", value = '//span/ul/li[contains(@class,\"productListItem\")]')\n",
    "# len(data)"
   ]
  },
  {
   "cell_type": "code",
   "execution_count": 8,
   "id": "706ee5cc",
   "metadata": {},
   "outputs": [],
   "source": [
    "# # Name\n",
    "# data[0].find_element(by = \"xpath\", value = './/li/h3/a').text"
   ]
  },
  {
   "cell_type": "code",
   "execution_count": 9,
   "id": "d67418df",
   "metadata": {},
   "outputs": [],
   "source": [
    "# #Writtern_by\n",
    "# data[0].find_element(by = \"xpath\", value = './/li[contains(@class,\"authorLabel\")]').text.lstrip(\"Written by:\")"
   ]
  },
  {
   "cell_type": "code",
   "execution_count": 10,
   "id": "254c7b70",
   "metadata": {},
   "outputs": [],
   "source": [
    "# #Narrated_by\n",
    "# data[0].find_element(by = \"xpath\", value = './/li[contains(@class,\"narratorLabel\")]').text.lstrip(\"Narrated by:\")"
   ]
  },
  {
   "cell_type": "code",
   "execution_count": 11,
   "id": "3c7daf3e",
   "metadata": {},
   "outputs": [],
   "source": [
    "# # Series\n",
    "# data[0].find_element(by = \"xpath\", value = './/li[contains(@class,\"seriesLabel\")]').text.lstrip(\"Series:\")"
   ]
  },
  {
   "cell_type": "code",
   "execution_count": 12,
   "id": "4c455846",
   "metadata": {},
   "outputs": [],
   "source": [
    "# #Length\n",
    "# data[0].find_element(by = \"xpath\", value = './/li[contains(@class,\"runtimeLabel\")]').text.lstrip(\"Length:\")"
   ]
  },
  {
   "cell_type": "code",
   "execution_count": 13,
   "id": "ab57e369",
   "metadata": {},
   "outputs": [],
   "source": [
    "# # Release_Date \n",
    "# data[0].find_element(by = \"xpath\", value = './/li[contains(@class,\"releaseDateLabel\")]').text.lstrip(\"Release Date:\")"
   ]
  },
  {
   "cell_type": "code",
   "execution_count": 14,
   "id": "b230653d",
   "metadata": {},
   "outputs": [],
   "source": [
    "# #Language \n",
    "# data[0].find_element(by = \"xpath\", value = './/li[contains(@class,\"languageLabel\")]').text.lstrip(\"Language:\")"
   ]
  },
  {
   "cell_type": "code",
   "execution_count": 15,
   "id": "b748904d",
   "metadata": {},
   "outputs": [],
   "source": [
    "# # Rating \n",
    "# str(data[0].find_element(by = \"xpath\", value = './/li[contains(@class,\"ratingsLabel\")]/span[1]').text).split()[0]"
   ]
  },
  {
   "cell_type": "code",
   "execution_count": 16,
   "id": "464b91ec",
   "metadata": {},
   "outputs": [],
   "source": [
    "# # Rating_Given_By \n",
    "# data[0].find_element(by = \"xpath\", value = './/li[contains(@class,\"ratingsLabel\")]/span[2]').text"
   ]
  },
  {
   "cell_type": "code",
   "execution_count": 17,
   "id": "85a9e7c7",
   "metadata": {},
   "outputs": [
    {
     "name": "stdout",
     "output_type": "stream",
     "text": [
      "1 Page Done\n",
      "2 Page Done\n",
      "3 Page Done\n",
      "4 Page Done\n"
     ]
    }
   ],
   "source": [
    "\n",
    "\n",
    "for page in range(1,5):\n",
    "    wait = WebDriverWait(driver, 10)\n",
    "    data = wait.until(EC.presence_of_all_elements_located((By.XPATH, \"//span/ul/li[contains(@class,'productListItem')]\")))\n",
    "    for i in data:\n",
    "        Name.append(i.find_element(by = \"xpath\", value = './/li/h3/a').text)\n",
    "    for i in data:\n",
    "        try:\n",
    "            Writtern_by.append(i.find_element(by = \"xpath\", value = './/li[contains(@class,\"authorLabel\")]').text.lstrip(\"Written by:\"))\n",
    "        except NoSuchElementException:\n",
    "            Writtern_by.append(\"None\")\n",
    "            continue\n",
    "    for i in data: \n",
    "        try:\n",
    "            Narrated_by.append(i.find_element(by = \"xpath\", value = './/li[contains(@class,\"narratorLabel\")]').text.lstrip(\"Narrated by:\"))\n",
    "        except NoSuchElementException:\n",
    "            Narrated_by.append(\"None\")\n",
    "            continue\n",
    "    for i in data:\n",
    "        try:\n",
    "            Series.append(i.find_element(by = \"xpath\", value = './/li[contains(@class,\"seriesLabel\")]').text.lstrip(\"Series:\"))\n",
    "        except NoSuchElementException:\n",
    "            Series.append(\"None\")\n",
    "            continue\n",
    "    for i in data:\n",
    "        try:\n",
    "            Length.append(i.find_element(by = \"xpath\", value = './/li[contains(@class,\"runtimeLabel\")]').text.lstrip(\"Length:\"))\n",
    "        except NoSuchElementException:\n",
    "            Length.append(\"None\")\n",
    "            continue\n",
    "    for i in data:\n",
    "        try:\n",
    "            Release_Date.append(i.find_element(by = \"xpath\", value = './/li[contains(@class,\"releaseDateLabel\")]').text.lstrip(\"Release Date:\"))\n",
    "        except NoSuchElementException:\n",
    "            Release_Date.append(\"None\")\n",
    "            continue\n",
    "    for i in data:\n",
    "        try:\n",
    "            Language.append(i.find_element(by = \"xpath\", value = './/li[contains(@class,\"languageLabel\")]').text.lstrip(\"Language:\"))\n",
    "        except NoSuchElementException:\n",
    "            Language.append(\"None\")\n",
    "            continue\n",
    "    for i in data:\n",
    "        try:\n",
    "            Rating.append(i.find_element(by = \"xpath\", value = './/li[contains(@class,\"ratingsLabel\")]/span[1]').text)\n",
    "        except NoSuchElementException:\n",
    "            Rating.append(\"None\")\n",
    "            continue\n",
    "    for i in data:\n",
    "        try:\n",
    "            Rating_Given_By.append(i.find_element(by = \"xpath\", value = './/li[contains(@class,\"ratingsLabel\")]/span[2]').text)\n",
    "        except NoSuchElementException:\n",
    "            Rating_Given_By.append(\"None\")\n",
    "            continue\n",
    "    try:\n",
    "        next_button = wait.until(EC.element_to_be_clickable((By.XPATH, \"//li/span[contains(@class,'nextButton')]/a\")))\n",
    "        next_button.click()\n",
    "        print(page,\"Page Done\")\n",
    "    except NoSuchElementException:\n",
    "        print(\"All Done\")\n",
    "        break"
   ]
  },
  {
   "cell_type": "code",
   "execution_count": 18,
   "id": "a61e8000",
   "metadata": {
    "scrolled": true
   },
   "outputs": [],
   "source": [
    "df = pd.DataFrame({\"Name\":Name,\"Writtern by\":Writtern_by,\"Narrated by\":Narrated_by,\"Series\":Series,\"Length\":Length,\"Release Date\":Release_Date,\"Language\":Language,\"Rating\":Rating,\"Rating Given By\":Rating_Given_By})"
   ]
  },
  {
   "cell_type": "code",
   "execution_count": 19,
   "id": "b0edb4e0",
   "metadata": {},
   "outputs": [
    {
     "data": {
      "text/html": [
       "<div>\n",
       "<style scoped>\n",
       "    .dataframe tbody tr th:only-of-type {\n",
       "        vertical-align: middle;\n",
       "    }\n",
       "\n",
       "    .dataframe tbody tr th {\n",
       "        vertical-align: top;\n",
       "    }\n",
       "\n",
       "    .dataframe thead th {\n",
       "        text-align: right;\n",
       "    }\n",
       "</style>\n",
       "<table border=\"1\" class=\"dataframe\">\n",
       "  <thead>\n",
       "    <tr style=\"text-align: right;\">\n",
       "      <th></th>\n",
       "      <th>Name</th>\n",
       "      <th>Writtern by</th>\n",
       "      <th>Narrated by</th>\n",
       "      <th>Series</th>\n",
       "      <th>Length</th>\n",
       "      <th>Release Date</th>\n",
       "      <th>Language</th>\n",
       "      <th>Rating</th>\n",
       "      <th>Rating Given By</th>\n",
       "    </tr>\n",
       "  </thead>\n",
       "  <tbody>\n",
       "    <tr>\n",
       "      <th>0</th>\n",
       "      <td>Borderland: A LitRPG Adventure</td>\n",
       "      <td>T. B. Mare</td>\n",
       "      <td>Eric Jason Martin</td>\n",
       "      <td>Stranger than Fiction, Book 2</td>\n",
       "      <td>14 hrs and 1 min</td>\n",
       "      <td>26-09-23</td>\n",
       "      <td>English</td>\n",
       "      <td>5 out of 5 stars</td>\n",
       "      <td>2 ratings</td>\n",
       "    </tr>\n",
       "    <tr>\n",
       "      <th>1</th>\n",
       "      <td>The Sandman, Act I (Hindi Edition)</td>\n",
       "      <td>Neil Gaiman, Dirk Maggs</td>\n",
       "      <td>Tabu, Vijay Varma, Manoj Bajpayee, Sushant Div...</td>\n",
       "      <td>The Sandman (Hindi Edition), Book 1</td>\n",
       "      <td>11 hrs and 3 mins</td>\n",
       "      <td>27-04-22</td>\n",
       "      <td>Hindi</td>\n",
       "      <td>4.5 out of 5 stars</td>\n",
       "      <td>373 ratings</td>\n",
       "    </tr>\n",
       "    <tr>\n",
       "      <th>2</th>\n",
       "      <td>Chandrakanta (Hindi Edition)</td>\n",
       "      <td>Devki Nandan Khatri</td>\n",
       "      <td>Manish Singhal</td>\n",
       "      <td>Chandrakanta Santati [Hindi Edition], Book 1</td>\n",
       "      <td>12 hrs and 41 mins</td>\n",
       "      <td>19-07-21</td>\n",
       "      <td>Hindi</td>\n",
       "      <td>4.5 out of 5 stars</td>\n",
       "      <td>33 ratings</td>\n",
       "    </tr>\n",
       "    <tr>\n",
       "      <th>3</th>\n",
       "      <td>The Prestige</td>\n",
       "      <td>Christopher Priest</td>\n",
       "      <td>Simon Vance</td>\n",
       "      <td>None</td>\n",
       "      <td>12 hrs and 15 mins</td>\n",
       "      <td>06-09-06</td>\n",
       "      <td>English</td>\n",
       "      <td>4.5 out of 5 stars</td>\n",
       "      <td>27 ratings</td>\n",
       "    </tr>\n",
       "    <tr>\n",
       "      <th>4</th>\n",
       "      <td>Columbus Day</td>\n",
       "      <td>Craig Alanson</td>\n",
       "      <td>R.C. Bray</td>\n",
       "      <td>Expeditionary Force, Book 1</td>\n",
       "      <td>16 hrs and 23 mins</td>\n",
       "      <td>13-12-16</td>\n",
       "      <td>English</td>\n",
       "      <td>4.5 out of 5 stars</td>\n",
       "      <td>39 ratings</td>\n",
       "    </tr>\n",
       "    <tr>\n",
       "      <th>...</th>\n",
       "      <td>...</td>\n",
       "      <td>...</td>\n",
       "      <td>...</td>\n",
       "      <td>...</td>\n",
       "      <td>...</td>\n",
       "      <td>...</td>\n",
       "      <td>...</td>\n",
       "      <td>...</td>\n",
       "      <td>...</td>\n",
       "    </tr>\n",
       "    <tr>\n",
       "      <th>75</th>\n",
       "      <td>The Vault of Vishnu</td>\n",
       "      <td>Ashwin Sanghi</td>\n",
       "      <td>Siddhanta Pinto</td>\n",
       "      <td>None</td>\n",
       "      <td>10 hrs and 2 mins</td>\n",
       "      <td>24-01-20</td>\n",
       "      <td>English</td>\n",
       "      <td>4 out of 5 stars</td>\n",
       "      <td>321 ratings</td>\n",
       "    </tr>\n",
       "    <tr>\n",
       "      <th>76</th>\n",
       "      <td>Third Eye</td>\n",
       "      <td>Felicia Day</td>\n",
       "      <td>Sean Astin, Felicia Day, Neil Gaiman, LilyPich...</td>\n",
       "      <td>None</td>\n",
       "      <td>6 hrs and 56 mins</td>\n",
       "      <td>05-10-23</td>\n",
       "      <td>English</td>\n",
       "      <td>5 out of 5 stars</td>\n",
       "      <td>1 rating</td>\n",
       "    </tr>\n",
       "    <tr>\n",
       "      <th>77</th>\n",
       "      <td>A Soul of Ash and Blood</td>\n",
       "      <td>Jennifer L. Armentrout</td>\n",
       "      <td>Tim Campbell</td>\n",
       "      <td>Blood and Ash, Book 5</td>\n",
       "      <td>19 hrs and 43 mins</td>\n",
       "      <td>18-07-23</td>\n",
       "      <td>English</td>\n",
       "      <td>4 out of 5 stars</td>\n",
       "      <td>4 ratings</td>\n",
       "    </tr>\n",
       "    <tr>\n",
       "      <th>78</th>\n",
       "      <td>The Found and the Lost</td>\n",
       "      <td>Ursula K. Le Guin</td>\n",
       "      <td>Alyssa Bresnahan, Jefferson Mays</td>\n",
       "      <td>None</td>\n",
       "      <td>34 hrs and 3 mins</td>\n",
       "      <td>04-11-16</td>\n",
       "      <td>English</td>\n",
       "      <td>5 out of 5 stars</td>\n",
       "      <td>1 rating</td>\n",
       "    </tr>\n",
       "    <tr>\n",
       "      <th>79</th>\n",
       "      <td>The Fool Who Thought Too Much</td>\n",
       "      <td>Ishmael Reed</td>\n",
       "      <td>Adam Lazarre-White</td>\n",
       "      <td>Audible Original Stories</td>\n",
       "      <td>1 hr and 22 mins</td>\n",
       "      <td>05-11-20</td>\n",
       "      <td>English</td>\n",
       "      <td>3.5 out of 5 stars</td>\n",
       "      <td>82 ratings</td>\n",
       "    </tr>\n",
       "  </tbody>\n",
       "</table>\n",
       "<p>80 rows × 9 columns</p>\n",
       "</div>"
      ],
      "text/plain": [
       "                                  Name              Writtern by  \\\n",
       "0       Borderland: A LitRPG Adventure               T. B. Mare   \n",
       "1   The Sandman, Act I (Hindi Edition)  Neil Gaiman, Dirk Maggs   \n",
       "2         Chandrakanta (Hindi Edition)      Devki Nandan Khatri   \n",
       "3                         The Prestige       Christopher Priest   \n",
       "4                         Columbus Day            Craig Alanson   \n",
       "..                                 ...                      ...   \n",
       "75                 The Vault of Vishnu            Ashwin Sanghi   \n",
       "76                           Third Eye              Felicia Day   \n",
       "77             A Soul of Ash and Blood   Jennifer L. Armentrout   \n",
       "78              The Found and the Lost        Ursula K. Le Guin   \n",
       "79       The Fool Who Thought Too Much             Ishmael Reed   \n",
       "\n",
       "                                          Narrated by  \\\n",
       "0                                   Eric Jason Martin   \n",
       "1   Tabu, Vijay Varma, Manoj Bajpayee, Sushant Div...   \n",
       "2                                      Manish Singhal   \n",
       "3                                         Simon Vance   \n",
       "4                                           R.C. Bray   \n",
       "..                                                ...   \n",
       "75                                    Siddhanta Pinto   \n",
       "76  Sean Astin, Felicia Day, Neil Gaiman, LilyPich...   \n",
       "77                                       Tim Campbell   \n",
       "78                   Alyssa Bresnahan, Jefferson Mays   \n",
       "79                                 Adam Lazarre-White   \n",
       "\n",
       "                                           Series               Length  \\\n",
       "0                   Stranger than Fiction, Book 2     14 hrs and 1 min   \n",
       "1             The Sandman (Hindi Edition), Book 1    11 hrs and 3 mins   \n",
       "2    Chandrakanta Santati [Hindi Edition], Book 1   12 hrs and 41 mins   \n",
       "3                                            None   12 hrs and 15 mins   \n",
       "4                     Expeditionary Force, Book 1   16 hrs and 23 mins   \n",
       "..                                            ...                  ...   \n",
       "75                                           None    10 hrs and 2 mins   \n",
       "76                                           None    6 hrs and 56 mins   \n",
       "77                          Blood and Ash, Book 5   19 hrs and 43 mins   \n",
       "78                                           None    34 hrs and 3 mins   \n",
       "79                       Audible Original Stories     1 hr and 22 mins   \n",
       "\n",
       "   Release Date  Language              Rating Rating Given By  \n",
       "0      26-09-23   English    5 out of 5 stars       2 ratings  \n",
       "1      27-04-22     Hindi  4.5 out of 5 stars     373 ratings  \n",
       "2      19-07-21     Hindi  4.5 out of 5 stars      33 ratings  \n",
       "3      06-09-06   English  4.5 out of 5 stars      27 ratings  \n",
       "4      13-12-16   English  4.5 out of 5 stars      39 ratings  \n",
       "..          ...       ...                 ...             ...  \n",
       "75     24-01-20   English    4 out of 5 stars     321 ratings  \n",
       "76     05-10-23   English    5 out of 5 stars        1 rating  \n",
       "77     18-07-23   English    4 out of 5 stars       4 ratings  \n",
       "78     04-11-16   English    5 out of 5 stars        1 rating  \n",
       "79     05-11-20   English  3.5 out of 5 stars      82 ratings  \n",
       "\n",
       "[80 rows x 9 columns]"
      ]
     },
     "execution_count": 19,
     "metadata": {},
     "output_type": "execute_result"
    }
   ],
   "source": [
    "df"
   ]
  },
  {
   "cell_type": "code",
   "execution_count": 20,
   "id": "f7a6bca6",
   "metadata": {},
   "outputs": [],
   "source": [
    "# try:\n",
    "#     print(data[7].find_element(by = \"xpath\", value = './/li[contains(@class,\"seriesLabel\")]').text.lstrip(\"Series:\"))\n",
    "# except NoSuchElementException:\n",
    "#     print(\"None\")"
   ]
  },
  {
   "cell_type": "code",
   "execution_count": 21,
   "id": "73a909c2",
   "metadata": {},
   "outputs": [],
   "source": [
    "# driver.quit()"
   ]
  },
  {
   "cell_type": "code",
   "execution_count": 22,
   "id": "3d7de2b1",
   "metadata": {},
   "outputs": [],
   "source": [
    "# from selenium.webdriver.support.ui import WebDriverWait\n",
    "# from selenium.webdriver.support import expected_conditions as EC"
   ]
  },
  {
   "cell_type": "code",
   "execution_count": 23,
   "id": "056eebb4",
   "metadata": {},
   "outputs": [],
   "source": [
    "# next_button = driver.find_element(by = \"xpath\", value = '//span[contains(@class,\"nextButton\")]/a')"
   ]
  },
  {
   "cell_type": "code",
   "execution_count": 24,
   "id": "83671ea2",
   "metadata": {},
   "outputs": [],
   "source": [
    "# wait = WebDriverWait(driver, 10)\n",
    "# element = wait.until(EC.element_to_be_clickable((By.XPATH, '//span[contains(@class,\"nextButton\")]/a')))\n",
    "# element.click()"
   ]
  },
  {
   "cell_type": "code",
   "execution_count": null,
   "id": "3c7e73f6",
   "metadata": {},
   "outputs": [],
   "source": []
  },
  {
   "cell_type": "code",
   "execution_count": null,
   "id": "1a469bcb",
   "metadata": {},
   "outputs": [],
   "source": []
  },
  {
   "cell_type": "code",
   "execution_count": null,
   "id": "61559d5e",
   "metadata": {},
   "outputs": [],
   "source": []
  },
  {
   "cell_type": "code",
   "execution_count": null,
   "id": "0334d6ff",
   "metadata": {},
   "outputs": [],
   "source": []
  },
  {
   "cell_type": "code",
   "execution_count": null,
   "id": "4f8f7555",
   "metadata": {},
   "outputs": [],
   "source": []
  },
  {
   "cell_type": "code",
   "execution_count": null,
   "id": "20de7b34",
   "metadata": {},
   "outputs": [],
   "source": []
  },
  {
   "cell_type": "code",
   "execution_count": null,
   "id": "90c9fbe6",
   "metadata": {},
   "outputs": [],
   "source": []
  },
  {
   "cell_type": "code",
   "execution_count": null,
   "id": "f88ae3ab",
   "metadata": {},
   "outputs": [],
   "source": []
  },
  {
   "cell_type": "code",
   "execution_count": null,
   "id": "fd8f3c0e",
   "metadata": {},
   "outputs": [],
   "source": []
  },
  {
   "cell_type": "code",
   "execution_count": null,
   "id": "b5751f23",
   "metadata": {},
   "outputs": [],
   "source": []
  },
  {
   "cell_type": "code",
   "execution_count": null,
   "id": "0a72b967",
   "metadata": {},
   "outputs": [],
   "source": []
  },
  {
   "cell_type": "code",
   "execution_count": null,
   "id": "ba0ea602",
   "metadata": {},
   "outputs": [],
   "source": []
  },
  {
   "cell_type": "code",
   "execution_count": null,
   "id": "f7bf4fac",
   "metadata": {},
   "outputs": [],
   "source": []
  },
  {
   "cell_type": "code",
   "execution_count": null,
   "id": "9bacec6a",
   "metadata": {},
   "outputs": [],
   "source": []
  }
 ],
 "metadata": {
  "kernelspec": {
   "display_name": "Python 3 (ipykernel)",
   "language": "python",
   "name": "python3"
  },
  "language_info": {
   "codemirror_mode": {
    "name": "ipython",
    "version": 3
   },
   "file_extension": ".py",
   "mimetype": "text/x-python",
   "name": "python",
   "nbconvert_exporter": "python",
   "pygments_lexer": "ipython3",
   "version": "3.11.0"
  }
 },
 "nbformat": 4,
 "nbformat_minor": 5
}
